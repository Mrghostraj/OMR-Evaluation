{
  "nbformat": 4,
  "nbformat_minor": 0,
  "metadata": {
    "colab": {
      "provenance": []
    },
    "kernelspec": {
      "name": "python3",
      "display_name": "Python 3"
    },
    "language_info": {
      "name": "python"
    }
  },
  "cells": [
    {
      "cell_type": "markdown",
      "source": [
        "#Importing the libraries\n"
      ],
      "metadata": {
        "id": "M9N3jY4RIMe0"
      }
    },
    {
      "cell_type": "code",
      "source": [
        "import pandas as pd\n",
        "import numpy as np\n",
        "import matplotlib.pyplot as plt\n",
        "import cv2\n",
        "import os\n",
        "import tensorflow as tf"
      ],
      "metadata": {
        "id": "n86DoU2gIQXt"
      },
      "execution_count": null,
      "outputs": []
    },
    {
      "cell_type": "markdown",
      "source": [
        "#Importing the Dataset & Lbeling them"
      ],
      "metadata": {
        "id": "pSEq8kw1ITtS"
      }
    },
    {
      "cell_type": "code",
      "source": [
        "img1 = cv2.imread('/content/drive/MyDrive/Dataset_all/abe01.jpg')\n",
        "img1 = cv2.cvtColor(img1, cv2.COLOR_BGR2GRAY)\n",
        "img1 = cv2.resize(img1, (280, 56))\n",
        "img1 = cv2.GaussianBlur(img1, (5, 5), 1)"
      ],
      "metadata": {
        "id": "QCQMqOVX5QJN"
      },
      "execution_count": null,
      "outputs": []
    },
    {
      "cell_type": "code",
      "source": [
        "from google.colab.patches import cv2_imshow\n",
        "cv2_imshow(img1)"
      ],
      "metadata": {
        "colab": {
          "base_uri": "https://localhost:8080/",
          "height": 73
        },
        "id": "9gX_Z4F25-yQ",
        "outputId": "62e7fb85-d87f-466b-9999-55b1f0ed5722"
      },
      "execution_count": null,
      "outputs": [
        {
          "output_type": "display_data",
          "data": {
            "text/plain": [
              "<PIL.Image.Image image mode=L size=280x56>"
            ],
            "image/png": "[encoded data removed]",
            "image/jpeg": "[encoded data removed]"
          },
          "metadata": {}
        }
      ]
    },
    {
      "cell_type": "code",
      "source": [
        "X = []\n",
        "y = []\n",
        "\n",
        "class_map = {'A': 0, 'B': 1, 'C': 2, 'D': 3, 'E': 4, 'X':5}\n",
        "num_classes = len(class_map) -1\n",
        "\n",
        "folder_path = '/content/drive/MyDrive/Dataset_all/'\n",
        "\n",
        "for file in os.listdir(folder_path):\n",
        "    if file.endswith('.jpg'):\n",
        "        label_chars = file[:5].upper()\n",
        "        label_vector = [0] * num_classes\n",
        "\n",
        "        if file.lower().startswith('x'):\n",
        "            pass\n",
        "        else:\n",
        "            for char in file.upper():\n",
        "                if char in class_map:\n",
        "                    label_vector[class_map[char]] = 1\n",
        "\n",
        "        img = cv2.imread(os.path.join(folder_path, file))\n",
        "        img = cv2.cvtColor(img, cv2.COLOR_BGR2GRAY)\n",
        "        img = cv2.resize(img, (280, 56))\n",
        "        img = cv2.GaussianBlur(img, (5, 5), 1)\n",
        "        img = img / 255.0\n",
        "\n",
        "        X.append(img.reshape(56, 280, 1))\n",
        "        y.append(label_vector)\n",
        "\n",
        "X = np.array(X)\n",
        "y = np.array(y)\n"
      ],
      "metadata": {
        "id": "YLry5CSw4xem"
      },
      "execution_count": null,
      "outputs": []
    },
    {
      "cell_type": "code",
      "source": [
        "len(y)"
      ],
      "metadata": {
        "colab": {
          "base_uri": "https://localhost:8080/"
        },
        "id": "ZGhtFVF8Mnly",
        "outputId": "69a2fc98-8013-40d7-beef-0a3b3a980668"
      },
      "execution_count": null,
      "outputs": [
        {
          "output_type": "execute_result",
          "data": {
            "text/plain": [
              "268"
            ]
          },
          "metadata": {},
          "execution_count": 5
        }
      ]
    },
    {
      "cell_type": "code",
      "source": [
        "print(y)"
      ],
      "metadata": {
        "colab": {
          "base_uri": "https://localhost:8080/"
        },
        "id": "pDxN4B0iljr5",
        "outputId": "feea6dc4-0543-460c-a3cc-e934ac630b27"
      },
      "execution_count": null,
      "outputs": [
        {
          "output_type": "stream",
          "name": "stdout",
          "text": [
            "[[1 0 0 0 0]\n",
            " [0 1 0 0 0]\n",
            " [0 0 1 0 0]\n",
            " ...\n",
            " [1 0 1 1 0]\n",
            " [0 1 1 1 0]\n",
            " [1 1 1 0 0]]\n"
          ]
        }
      ]
    },
    {
      "cell_type": "markdown",
      "source": [
        "#Splitting the datset into training set & test set"
      ],
      "metadata": {
        "id": "38QazOvHIeb1"
      }
    },
    {
      "cell_type": "code",
      "source": [
        "# x_train = X[:50]\n",
        "# x_test = X[50:]\n",
        "# y_train = y[:50]\n",
        "# y_test = y[50:]"
      ],
      "metadata": {
        "id": "cqybBEJPInA0"
      },
      "execution_count": null,
      "outputs": []
    },
    {
      "cell_type": "code",
      "source": [
        "from sklearn.model_selection import train_test_split\n",
        "x_train, x_test, y_train, y_test = train_test_split(X, y, test_size=0.1, random_state=0)"
      ],
      "metadata": {
        "id": "NZUPx4OJJg0P"
      },
      "execution_count": null,
      "outputs": []
    },
    {
      "cell_type": "markdown",
      "source": [
        "#Building the CNN model"
      ],
      "metadata": {
        "id": "H5pen8SgInnL"
      }
    },
    {
      "cell_type": "code",
      "source": [
        "model=tf.keras.models.Sequential([\n",
        "    tf.keras.layers.Conv2D(filters=32, kernel_size=3, activation='relu', input_shape=(280, 56, 1)),\n",
        "    tf.keras.layers.MaxPool2D(pool_size=2),\n",
        "\n",
        "    tf.keras.layers.Conv2D(filters=64, kernel_size=3, activation='relu'),\n",
        "    tf.keras.layers.MaxPool2D(pool_size=2),\n",
        "\n",
        "    tf.keras.layers.Flatten(),\n",
        "    tf.keras.layers.Dense(64, activation=tf.nn.relu),\n",
        "    tf.keras.layers.Dense(5, activation=tf.nn.sigmoid)\n",
        "])"
      ],
      "metadata": {
        "id": "j2jIs0MrIxki",
        "colab": {
          "base_uri": "https://localhost:8080/"
        },
        "outputId": "16ee844e-f44a-4ce9-d773-6941ec836e65"
      },
      "execution_count": null,
      "outputs": [
        {
          "output_type": "stream",
          "name": "stderr",
          "text": [
            "/usr/local/lib/python3.11/dist-packages/keras/src/layers/convolutional/base_conv.py:113: UserWarning: Do not pass an `input_shape`/`input_dim` argument to a layer. When using Sequential models, prefer using an `Input(shape)` object as the first layer in the model instead.\n",
            "  super().__init__(activity_regularizer=activity_regularizer, **kwargs)\n"
          ]
        }
      ]
    },
    {
      "cell_type": "code",
      "source": [
        "model.compile(optimizer='adam',\n",
        "              loss='binary_crossentropy',\n",
        "              metrics=['accuracy'])"
      ],
      "metadata": {
        "id": "QylS4FRrJm7T"
      },
      "execution_count": null,
      "outputs": []
    },
    {
      "cell_type": "markdown",
      "source": [
        "#Training the model"
      ],
      "metadata": {
        "id": "USbsbwUwIx91"
      }
    },
    {
      "cell_type": "code",
      "source": [
        "model.fit(x_train, y_train, epochs=25, batch_size=32, validation_data=(x_test, y_test))"
      ],
      "metadata": {
        "colab": {
          "base_uri": "https://localhost:8080/"
        },
        "id": "m4SpGH0HI_Yp",
        "outputId": "1ac24689-3533-442f-9e1e-e1c6980acfac"
      },
      "execution_count": null,
      "outputs": [
        {
          "output_type": "stream",
          "name": "stdout",
          "text": [
            "Epoch 1/25\n",
            "\u001b[1m8/8\u001b[0m \u001b[32m━━━━━━━━━━━━━━━━━━━━\u001b[0m\u001b[37m\u001b[0m \u001b[1m8s\u001b[0m 695ms/step - accuracy: 0.1602 - loss: 0.7940 - val_accuracy: 0.2593 - val_loss: 0.6795\n",
            "Epoch 2/25\n",
            "\u001b[1m8/8\u001b[0m \u001b[32m━━━━━━━━━━━━━━━━━━━━\u001b[0m\u001b[37m\u001b[0m \u001b[1m6s\u001b[0m 756ms/step - accuracy: 0.2978 - loss: 0.6768 - val_accuracy: 0.5926 - val_loss: 0.6505\n",
            "Epoch 3/25\n",
            "\u001b[1m8/8\u001b[0m \u001b[32m━━━━━━━━━━━━━━━━━━━━\u001b[0m\u001b[37m\u001b[0m \u001b[1m8s\u001b[0m 519ms/step - accuracy: 0.4748 - loss: 0.6198 - val_accuracy: 0.3333 - val_loss: 0.5396\n",
            "Epoch 4/25\n",
            "\u001b[1m8/8\u001b[0m \u001b[32m━━━━━━━━━━━━━━━━━━━━\u001b[0m\u001b[37m\u001b[0m \u001b[1m5s\u001b[0m 583ms/step - accuracy: 0.5091 - loss: 0.4741 - val_accuracy: 0.6667 - val_loss: 0.3496\n",
            "Epoch 5/25\n",
            "\u001b[1m8/8\u001b[0m \u001b[32m━━━━━━━━━━━━━━━━━━━━\u001b[0m\u001b[37m\u001b[0m \u001b[1m6s\u001b[0m 638ms/step - accuracy: 0.6605 - loss: 0.2657 - val_accuracy: 0.6296 - val_loss: 0.1413\n",
            "Epoch 6/25\n",
            "\u001b[1m8/8\u001b[0m \u001b[32m━━━━━━━━━━━━━━━━━━━━\u001b[0m\u001b[37m\u001b[0m \u001b[1m10s\u001b[0m 652ms/step - accuracy: 0.5332 - loss: 0.1168 - val_accuracy: 0.7778 - val_loss: 0.0661\n",
            "Epoch 7/25\n",
            "\u001b[1m8/8\u001b[0m \u001b[32m━━━━━━━━━━━━━━━━━━━━\u001b[0m\u001b[37m\u001b[0m \u001b[1m9s\u001b[0m 504ms/step - accuracy: 0.6675 - loss: 0.0460 - val_accuracy: 0.7407 - val_loss: 0.0167\n",
            "Epoch 8/25\n",
            "\u001b[1m8/8\u001b[0m \u001b[32m━━━━━━━━━━━━━━━━━━━━\u001b[0m\u001b[37m\u001b[0m \u001b[1m7s\u001b[0m 777ms/step - accuracy: 0.6027 - loss: 0.0201 - val_accuracy: 0.7407 - val_loss: 0.0118\n",
            "Epoch 9/25\n",
            "\u001b[1m8/8\u001b[0m \u001b[32m━━━━━━━━━━━━━━━━━━━━\u001b[0m\u001b[37m\u001b[0m \u001b[1m10s\u001b[0m 712ms/step - accuracy: 0.6046 - loss: 0.0112 - val_accuracy: 0.7778 - val_loss: 0.0082\n",
            "Epoch 10/25\n",
            "\u001b[1m8/8\u001b[0m \u001b[32m━━━━━━━━━━━━━━━━━━━━\u001b[0m\u001b[37m\u001b[0m \u001b[1m6s\u001b[0m 816ms/step - accuracy: 0.6643 - loss: 0.0057 - val_accuracy: 0.7407 - val_loss: 0.0088\n",
            "Epoch 11/25\n",
            "\u001b[1m8/8\u001b[0m \u001b[32m━━━━━━━━━━━━━━━━━━━━\u001b[0m\u001b[37m\u001b[0m \u001b[1m8s\u001b[0m 504ms/step - accuracy: 0.6604 - loss: 0.0040 - val_accuracy: 0.7037 - val_loss: 0.0053\n",
            "Epoch 12/25\n",
            "\u001b[1m8/8\u001b[0m \u001b[32m━━━━━━━━━━━━━━━━━━━━\u001b[0m\u001b[37m\u001b[0m \u001b[1m6s\u001b[0m 751ms/step - accuracy: 0.6407 - loss: 0.0030 - val_accuracy: 0.7037 - val_loss: 0.0035\n",
            "Epoch 13/25\n",
            "\u001b[1m8/8\u001b[0m \u001b[32m━━━━━━━━━━━━━━━━━━━━\u001b[0m\u001b[37m\u001b[0m \u001b[1m9s\u001b[0m 516ms/step - accuracy: 0.6074 - loss: 0.0018 - val_accuracy: 0.7407 - val_loss: 0.0029\n",
            "Epoch 14/25\n",
            "\u001b[1m8/8\u001b[0m \u001b[32m━━━━━━━━━━━━━━━━━━━━\u001b[0m\u001b[37m\u001b[0m \u001b[1m7s\u001b[0m 745ms/step - accuracy: 0.5868 - loss: 0.0018 - val_accuracy: 0.7037 - val_loss: 0.0032\n",
            "Epoch 15/25\n",
            "\u001b[1m8/8\u001b[0m \u001b[32m━━━━━━━━━━━━━━━━━━━━\u001b[0m\u001b[37m\u001b[0m \u001b[1m8s\u001b[0m 505ms/step - accuracy: 0.6146 - loss: 0.0012 - val_accuracy: 0.7407 - val_loss: 0.0029\n",
            "Epoch 16/25\n",
            "\u001b[1m8/8\u001b[0m \u001b[32m━━━━━━━━━━━━━━━━━━━━\u001b[0m\u001b[37m\u001b[0m \u001b[1m6s\u001b[0m 643ms/step - accuracy: 0.6247 - loss: 0.0018 - val_accuracy: 0.7037 - val_loss: 0.0030\n",
            "Epoch 17/25\n",
            "\u001b[1m8/8\u001b[0m \u001b[32m━━━━━━━━━━━━━━━━━━━━\u001b[0m\u001b[37m\u001b[0m \u001b[1m4s\u001b[0m 505ms/step - accuracy: 0.5942 - loss: 9.9886e-04 - val_accuracy: 0.7407 - val_loss: 0.0025\n",
            "Epoch 18/25\n",
            "\u001b[1m8/8\u001b[0m \u001b[32m━━━━━━━━━━━━━━━━━━━━\u001b[0m\u001b[37m\u001b[0m \u001b[1m6s\u001b[0m 646ms/step - accuracy: 0.6056 - loss: 9.9192e-04 - val_accuracy: 0.7407 - val_loss: 0.0024\n",
            "Epoch 19/25\n",
            "\u001b[1m8/8\u001b[0m \u001b[32m━━━━━━━━━━━━━━━━━━━━\u001b[0m\u001b[37m\u001b[0m \u001b[1m5s\u001b[0m 553ms/step - accuracy: 0.5850 - loss: 8.9096e-04 - val_accuracy: 0.7407 - val_loss: 0.0024\n",
            "Epoch 20/25\n",
            "\u001b[1m8/8\u001b[0m \u001b[32m━━━━━━━━━━━━━━━━━━━━\u001b[0m\u001b[37m\u001b[0m \u001b[1m4s\u001b[0m 500ms/step - accuracy: 0.6253 - loss: 7.0986e-04 - val_accuracy: 0.7407 - val_loss: 0.0025\n",
            "Epoch 21/25\n",
            "\u001b[1m8/8\u001b[0m \u001b[32m━━━━━━━━━━━━━━━━━━━━\u001b[0m\u001b[37m\u001b[0m \u001b[1m5s\u001b[0m 601ms/step - accuracy: 0.5822 - loss: 7.0749e-04 - val_accuracy: 0.7407 - val_loss: 0.0020\n",
            "Epoch 22/25\n",
            "\u001b[1m8/8\u001b[0m \u001b[32m━━━━━━━━━━━━━━━━━━━━\u001b[0m\u001b[37m\u001b[0m \u001b[1m5s\u001b[0m 545ms/step - accuracy: 0.6191 - loss: 6.3754e-04 - val_accuracy: 0.7407 - val_loss: 0.0019\n",
            "Epoch 23/25\n",
            "\u001b[1m8/8\u001b[0m \u001b[32m━━━━━━━━━━━━━━━━━━━━\u001b[0m\u001b[37m\u001b[0m \u001b[1m4s\u001b[0m 497ms/step - accuracy: 0.6211 - loss: 6.2268e-04 - val_accuracy: 0.7407 - val_loss: 0.0020\n",
            "Epoch 24/25\n",
            "\u001b[1m8/8\u001b[0m \u001b[32m━━━━━━━━━━━━━━━━━━━━\u001b[0m\u001b[37m\u001b[0m \u001b[1m7s\u001b[0m 757ms/step - accuracy: 0.6160 - loss: 5.6091e-04 - val_accuracy: 0.7407 - val_loss: 0.0019\n",
            "Epoch 25/25\n",
            "\u001b[1m8/8\u001b[0m \u001b[32m━━━━━━━━━━━━━━━━━━━━\u001b[0m\u001b[37m\u001b[0m \u001b[1m8s\u001b[0m 506ms/step - accuracy: 0.5985 - loss: 5.5805e-04 - val_accuracy: 0.7407 - val_loss: 0.0016\n"
          ]
        },
        {
          "output_type": "execute_result",
          "data": {
            "text/plain": [
              "<keras.src.callbacks.history.History at 0x7afd64da1650>"
            ]
          },
          "metadata": {},
          "execution_count": 11
        }
      ]
    },
    {
      "cell_type": "code",
      "source": [
        "test_loss, test_acc = model.evaluate(x_test, y_test)"
      ],
      "metadata": {
        "colab": {
          "base_uri": "https://localhost:8080/"
        },
        "id": "Kno5FRZE8VyS",
        "outputId": "2654c6e4-1941-47fc-b74c-74fc8072861d"
      },
      "execution_count": null,
      "outputs": [
        {
          "output_type": "stream",
          "name": "stdout",
          "text": [
            "\u001b[1m1/1\u001b[0m \u001b[32m━━━━━━━━━━━━━━━━━━━━\u001b[0m\u001b[37m\u001b[0m \u001b[1m0s\u001b[0m 141ms/step - accuracy: 0.7407 - loss: 0.0016\n"
          ]
        }
      ]
    },
    {
      "cell_type": "markdown",
      "source": [
        "#predicting the test set result"
      ],
      "metadata": {
        "id": "SQZcbebtI_ye"
      }
    },
    {
      "cell_type": "code",
      "source": [
        "y_pred = model.predict(x_test)\n",
        "# binary_preds = (y_pred > 0.6).astype(int)"
      ],
      "metadata": {
        "id": "FOxaiKBsJDFF",
        "colab": {
          "base_uri": "https://localhost:8080/"
        },
        "outputId": "c9fa2247-ecea-4965-e009-7ebcd17227d6"
      },
      "execution_count": null,
      "outputs": [
        {
          "output_type": "stream",
          "name": "stdout",
          "text": [
            "\u001b[1m1/1\u001b[0m \u001b[32m━━━━━━━━━━━━━━━━━━━━\u001b[0m\u001b[37m\u001b[0m \u001b[1m0s\u001b[0m 197ms/step\n"
          ]
        }
      ]
    },
    {
      "cell_type": "code",
      "source": [
        "threshold = 0.5\n",
        "predicted_labels = []\n",
        "for i in range(len(y_pred)):\n",
        "    multi_label = (y_pred[i] >= threshold).astype(int)\n",
        "    predicted_labels.append(multi_label)"
      ],
      "metadata": {
        "id": "7pOzbcli-4bV"
      },
      "execution_count": null,
      "outputs": []
    },
    {
      "cell_type": "code",
      "source": [
        "print(y_test)"
      ],
      "metadata": {
        "id": "mSTqfIFrJ7S4",
        "colab": {
          "base_uri": "https://localhost:8080/"
        },
        "outputId": "2f069e9e-2ec9-4374-95e3-c0bbcf868b12"
      },
      "execution_count": null,
      "outputs": [
        {
          "output_type": "stream",
          "name": "stdout",
          "text": [
            "[[0 0 0 0 0]\n",
            " [0 1 1 1 0]\n",
            " [0 0 1 0 0]\n",
            " [0 0 0 0 1]\n",
            " [1 1 1 1 1]\n",
            " [1 1 1 1 1]\n",
            " [1 0 0 0 1]\n",
            " [0 0 0 1 1]\n",
            " [0 1 0 0 0]\n",
            " [0 0 0 1 0]\n",
            " [0 1 0 1 0]\n",
            " [0 1 1 0 1]\n",
            " [0 0 1 0 1]\n",
            " [0 0 1 0 0]\n",
            " [0 1 0 0 1]\n",
            " [0 1 1 0 0]\n",
            " [1 1 0 1 1]\n",
            " [1 0 0 0 0]\n",
            " [0 0 0 1 0]\n",
            " [0 0 1 1 0]\n",
            " [0 0 1 0 0]\n",
            " [0 0 1 0 1]\n",
            " [1 0 1 1 1]\n",
            " [0 0 1 1 0]\n",
            " [0 0 0 0 1]\n",
            " [0 1 0 0 0]\n",
            " [0 0 1 0 1]]\n"
          ]
        }
      ]
    },
    {
      "cell_type": "code",
      "source": [
        "print(predicted_labels)"
      ],
      "metadata": {
        "colab": {
          "base_uri": "https://localhost:8080/"
        },
        "id": "JCkTB2S4jIZ6",
        "outputId": "df169ddb-9c4e-45bf-d44f-841969d3e21a"
      },
      "execution_count": null,
      "outputs": [
        {
          "output_type": "stream",
          "name": "stdout",
          "text": [
            "[array([0, 0, 0, 0, 0]), array([0, 1, 1, 1, 0]), array([0, 0, 1, 0, 0]), array([0, 0, 0, 0, 1]), array([1, 1, 1, 1, 1]), array([1, 1, 1, 1, 1]), array([1, 0, 0, 0, 1]), array([0, 0, 0, 1, 1]), array([0, 1, 0, 0, 0]), array([0, 0, 0, 1, 0]), array([0, 1, 0, 1, 0]), array([0, 1, 1, 0, 1]), array([0, 0, 1, 0, 1]), array([0, 0, 1, 0, 0]), array([0, 1, 0, 0, 1]), array([0, 1, 1, 0, 0]), array([1, 1, 0, 1, 1]), array([1, 0, 0, 0, 0]), array([0, 0, 0, 1, 0]), array([0, 0, 1, 1, 0]), array([0, 0, 1, 0, 0]), array([0, 0, 1, 0, 1]), array([1, 0, 1, 1, 1]), array([0, 0, 1, 1, 0]), array([0, 0, 0, 0, 1]), array([0, 1, 0, 0, 0]), array([0, 0, 1, 0, 1])]\n"
          ]
        }
      ]
    },
    {
      "cell_type": "code",
      "source": [
        "from sklearn.metrics import accuracy_score\n",
        "accuracy_score(y_test, predicted_labels)"
      ],
      "metadata": {
        "colab": {
          "base_uri": "https://localhost:8080/"
        },
        "id": "hEZu32By8MyF",
        "outputId": "9a5961a0-8541-45a2-852f-5e0a5b5427eb"
      },
      "execution_count": null,
      "outputs": [
        {
          "output_type": "execute_result",
          "data": {
            "text/plain": [
              "1.0"
            ]
          },
          "metadata": {},
          "execution_count": 17
        }
      ]
    },
    {
      "cell_type": "markdown",
      "source": [
        "#Saving the model"
      ],
      "metadata": {
        "id": "a2LcbhmCdWQn"
      }
    },
    {
      "cell_type": "code",
      "source": [
        "from google.colab import drive\n",
        "drive.mount('/content/drive')\n",
        "\n",
        "# Save the trained model in Drive\n"
      ],
      "metadata": {
        "colab": {
          "base_uri": "https://localhost:8080/"
        },
        "id": "j3Jn6ze8deR0",
        "outputId": "71b1fe4a-7b99-4af4-87a5-2881926b4f53"
      },
      "execution_count": null,
      "outputs": [
        {
          "output_type": "stream",
          "name": "stderr",
          "text": [
            "WARNING:absl:You are saving your model as an HDF5 file via `model.save()` or `keras.saving.save_model(model)`. This file format is considered legacy. We recommend using instead the native Keras format, e.g. `model.save('my_model.keras')` or `keras.saving.save_model(model, 'my_model.keras')`. \n"
          ]
        },
        {
          "output_type": "stream",
          "name": "stdout",
          "text": [
            "Drive already mounted at /content/drive; to attempt to forcibly remount, call drive.mount(\"/content/drive\", force_remount=True).\n"
          ]
        }
      ]
    },
    {
      "cell_type": "code",
      "source": [
        "model.save('/content/drive/MyDrive/omr_model.h5')"
      ],
      "metadata": {
        "id": "yRDVQh430VQ5",
        "outputId": "2abfe900-d483-417d-ee93-28ee5c2105da",
        "colab": {
          "base_uri": "https://localhost:8080/"
        }
      },
      "execution_count": null,
      "outputs": [
        {
          "output_type": "stream",
          "name": "stderr",
          "text": [
            "WARNING:absl:You are saving your model as an HDF5 file via `model.save()` or `keras.saving.save_model(model)`. This file format is considered legacy. We recommend using instead the native Keras format, e.g. `model.save('my_model.keras')` or `keras.saving.save_model(model, 'my_model.keras')`. \n"
          ]
        }
      ]
    }
  ]
}