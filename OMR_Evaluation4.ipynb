{
  "cells": [
    {
      "cell_type": "code",
      "execution_count": 25,
      "metadata": {
        "id": "yy-xIGPS57X1"
      },
      "outputs": [],
      "source": [
        "import tensorflow\n",
        "import cv2\n",
        "import numpy as np\n",
        "import pandas as pd\n",
        "import matplotlib.pyplot as plt"
      ]
    },
    {
      "cell_type": "code",
      "execution_count": 26,
      "metadata": {
        "colab": {
          "base_uri": "https://localhost:8080/"
        },
        "id": "DiEIT6_T51N3",
        "outputId": "90432041-c0b6-48a3-d82c-32065ad9ee01"
      },
      "outputs": [],
      "source": [
        "from tensorflow.keras.models import load_model\n",
        "model = load_model('omr_cnn.keras')"
      ]
    },
    {
      "cell_type": "code",
      "execution_count": 27,
      "metadata": {
        "id": "wnVp8HzG3yk9"
      },
      "outputs": [],
      "source": [
        "img = cv2.imread('OMR1.jpg')"
      ]
    },
    {
      "cell_type": "code",
      "execution_count": 28,
      "metadata": {
        "id": "Qz4Rcr5U8L_o"
      },
      "outputs": [],
      "source": [
        "img1= cv2.resize(img,(2000, 2500))"
      ]
    },
    {
      "cell_type": "code",
      "execution_count": 29,
      "metadata": {
        "id": "dykpxyu517zX"
      },
      "outputs": [],
      "source": [
        "left_half = img1[760:2290, 350:750]\n",
        "right_half = img1[760:2290, 1130:1510]"
      ]
    },
    {
      "cell_type": "code",
      "execution_count": 30,
      "metadata": {},
      "outputs": [],
      "source": [
        "h, w, c = left_half.shape\n",
        "h1, w1, c1 = right_half.shape"
      ]
    },
    {
      "cell_type": "code",
      "execution_count": 31,
      "metadata": {},
      "outputs": [],
      "source": [
        "img2 = cv2.cvtColor(left_half, cv2.COLOR_BGR2GRAY)\n",
        "img2 = cv2.GaussianBlur(img2, (5, 5), 1)\n",
        "img3 = cv2.cvtColor(right_half, cv2.COLOR_BGR2GRAY)\n",
        "img3 = cv2.GaussianBlur(img3, (5, 5), 1)"
      ]
    },
    {
      "cell_type": "code",
      "execution_count": 33,
      "metadata": {},
      "outputs": [],
      "source": [
        "images=[]\n",
        "slice_height = h // 15\n",
        "slice_width = w\n",
        "for i in range(15):\n",
        "  start = i * slice_height\n",
        "  end = start + slice_height\n",
        "  img_slice = img2[start:end, :]\n",
        "  img_slice = cv2.resize(img_slice, (280, 56))\n",
        "  img_slice = np.expand_dims(img_slice, axis=-1)\n",
        "  img_slice =  img_slice/255\n",
        "  images.append(img_slice)"
      ]
    },
    {
      "cell_type": "code",
      "execution_count": 34,
      "metadata": {},
      "outputs": [],
      "source": [
        "slice_height = h1 // 15\n",
        "slice_width = w1\n",
        "for i in range(15):\n",
        "  start = i * slice_height\n",
        "  end = start + slice_height\n",
        "  img_slice = img3[start:end, :]\n",
        "  img_slice = cv2.resize(img_slice, (280, 56))\n",
        "  img_slice = np.expand_dims(img_slice, axis=-1)\n",
        "  img_slice =  img_slice/255\n",
        "  images.append(img_slice)"
      ]
    },
    {
      "cell_type": "code",
      "execution_count": 35,
      "metadata": {
        "colab": {
          "base_uri": "https://localhost:8080/"
        },
        "id": "S-BBiCcD7nf4",
        "outputId": "948e3ce7-c29b-4856-b368-e323d26b36e9"
      },
      "outputs": [
        {
          "name": "stdout",
          "output_type": "stream",
          "text": [
            "\u001b[1m1/1\u001b[0m \u001b[32m━━━━━━━━━━━━━━━━━━━━\u001b[0m\u001b[37m\u001b[0m \u001b[1m0s\u001b[0m 89ms/step\n"
          ]
        }
      ],
      "source": [
        "images_array = np.array(images)\n",
        "images_array = images_array.reshape(-1, 56, 280, 1)\n",
        "pred = model.predict(images_array)"
      ]
    },
    {
      "cell_type": "code",
      "execution_count": 36,
      "metadata": {
        "id": "KdZZhcnu8FcW"
      },
      "outputs": [],
      "source": [
        "threshold = 0.5\n",
        "predicted_answers = []\n",
        "for prediction in pred:\n",
        "    multi_label = (prediction >= threshold).astype(int)\n",
        "    predicted_answers.append(multi_label)"
      ]
    },
    {
      "cell_type": "markdown",
      "metadata": {},
      "source": [
        "Reading the answer & returning the result "
      ]
    },
    {
      "cell_type": "code",
      "execution_count": 37,
      "metadata": {},
      "outputs": [],
      "source": [
        "df = pd.read_csv(\"answer_key.csv\")"
      ]
    },
    {
      "cell_type": "code",
      "execution_count": 39,
      "metadata": {},
      "outputs": [],
      "source": [
        "from sklearn.preprocessing import MultiLabelBinarizer\n",
        "\n",
        "df[\"answer\"] = df[\"answer\"].apply(lambda x: x.split(\",\"))\n",
        "\n",
        "mlb = MultiLabelBinarizer(classes=[\"A\",\"B\",\"C\",\"D\",\"E\"])\n",
        "encoded = mlb.fit_transform(df[\"answer\"])\n",
        "\n",
        "ans = pd.DataFrame(encoded, columns=mlb.classes_)\n",
        "ans = ans.to_numpy()\n"
      ]
    },
    {
      "cell_type": "code",
      "execution_count": 40,
      "metadata": {},
      "outputs": [
        {
          "name": "stdout",
          "output_type": "stream",
          "text": [
            "Excelent, You scored 24 marks.\n"
          ]
        }
      ],
      "source": [
        "correct = 0\n",
        "wrong = 0\n",
        "for i in range(30):\n",
        "    if (predicted_answers[i]== ans[i]).all():\n",
        "        correct+=1\n",
        "    else:\n",
        "        wrong+=1\n",
        "if correct>=20:\n",
        "    print(f\"Excelent, You scored {correct} marks.\")\n",
        "elif correct>=10 and correct<20:\n",
        "    print(f\"Bingo, You scored {correct} marks.\")\n",
        "else:\n",
        "    print(f\"You scored {correct} marks. Needs Improvements\")\n"
      ]
    }
  ],
  "metadata": {
    "colab": {
      "provenance": []
    },
    "kernelspec": {
      "display_name": "Python (myenv)",
      "language": "python",
      "name": "myenv"
    },
    "language_info": {
      "codemirror_mode": {
        "name": "ipython",
        "version": 3
      },
      "file_extension": ".py",
      "mimetype": "text/x-python",
      "name": "python",
      "nbconvert_exporter": "python",
      "pygments_lexer": "ipython3",
      "version": "3.10.18"
    }
  },
  "nbformat": 4,
  "nbformat_minor": 0
}
